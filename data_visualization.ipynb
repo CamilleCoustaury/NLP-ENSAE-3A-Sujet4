{
 "cells": [
  {
   "cell_type": "markdown",
   "id": "8afc18f7",
   "metadata": {},
   "source": [
    "# Data visualisation"
   ]
  },
  {
   "cell_type": "markdown",
   "id": "8f565318",
   "metadata": {},
   "source": [
    "In the Notebook we are looking to explore the HANNA data base."
   ]
  },
  {
   "cell_type": "code",
   "execution_count": 11,
   "id": "43778fa1",
   "metadata": {},
   "outputs": [],
   "source": [
    "# importations\n",
    "import csv\n",
    "import json\n",
    "import matplotlib\n",
    "import matplotlib.pyplot as plt\n",
    "import numpy as np\n",
    "import os\n",
    "import pandas as pd\n",
    "import pingouin as pg \n",
    "from scipy.special import binom\n",
    "import scipy.stats as st\n",
    "from scipy.stats import pearsonr, spearmanr, kendalltau\n",
    "import seaborn as sns\n",
    "from sklearn.metrics import f1_score\n",
    "from utils import *"
   ]
  },
  {
   "cell_type": "markdown",
   "id": "613d2ec1",
   "metadata": {},
   "source": [
    "## Loading the data"
   ]
  },
  {
   "cell_type": "code",
   "execution_count": 14,
   "id": "60cd37dd",
   "metadata": {},
   "outputs": [],
   "source": [
    "data_annotations = pd.read_csv(\"hanna_stories_annotations.csv\")"
   ]
  },
  {
   "cell_type": "markdown",
   "id": "656e61c7",
   "metadata": {},
   "source": [
    "There are 96 different prompts and thus for each model there are 96 stories."
   ]
  },
  {
   "cell_type": "code",
   "execution_count": 75,
   "id": "eadc814d",
   "metadata": {},
   "outputs": [
    {
     "data": {
      "text/html": [
       "<div>\n",
       "<style scoped>\n",
       "    .dataframe tbody tr th:only-of-type {\n",
       "        vertical-align: middle;\n",
       "    }\n",
       "\n",
       "    .dataframe tbody tr th {\n",
       "        vertical-align: top;\n",
       "    }\n",
       "\n",
       "    .dataframe thead th {\n",
       "        text-align: right;\n",
       "    }\n",
       "</style>\n",
       "<table border=\"1\" class=\"dataframe\">\n",
       "  <thead>\n",
       "    <tr style=\"text-align: right;\">\n",
       "      <th></th>\n",
       "      <th>Story ID</th>\n",
       "      <th>Prompt</th>\n",
       "      <th>Human</th>\n",
       "      <th>Story</th>\n",
       "      <th>Model</th>\n",
       "      <th>Relevance</th>\n",
       "      <th>Coherence</th>\n",
       "      <th>Empathy</th>\n",
       "      <th>Surprise</th>\n",
       "      <th>Engagement</th>\n",
       "      <th>Complexity</th>\n",
       "      <th>Worker ID</th>\n",
       "      <th>Assignment ID</th>\n",
       "      <th>Work time in seconds</th>\n",
       "      <th>Name</th>\n",
       "    </tr>\n",
       "  </thead>\n",
       "  <tbody>\n",
       "    <tr>\n",
       "      <th>3163</th>\n",
       "      <td>1054</td>\n",
       "      <td>When a new president is elected, they are give...</td>\n",
       "      <td>“Mr President I want you to know I am telling ...</td>\n",
       "      <td>'said a puppet'President Bush stopped the old ...</td>\n",
       "      <td>TD-VAE</td>\n",
       "      <td>2</td>\n",
       "      <td>1</td>\n",
       "      <td>1</td>\n",
       "      <td>3</td>\n",
       "      <td>2</td>\n",
       "      <td>2</td>\n",
       "      <td>A2WNW8A4MOR7T7</td>\n",
       "      <td>3QHK8ZVMIXPJUK85ND02LXTCPDOBLG</td>\n",
       "      <td>140.0</td>\n",
       "      <td>Bush</td>\n",
       "    </tr>\n",
       "    <tr>\n",
       "      <th>3164</th>\n",
       "      <td>1054</td>\n",
       "      <td>When a new president is elected, they are give...</td>\n",
       "      <td>“Mr President I want you to know I am telling ...</td>\n",
       "      <td>'said a puppet'President Bush stopped the old ...</td>\n",
       "      <td>TD-VAE</td>\n",
       "      <td>3</td>\n",
       "      <td>2</td>\n",
       "      <td>3</td>\n",
       "      <td>2</td>\n",
       "      <td>2</td>\n",
       "      <td>3</td>\n",
       "      <td>A264NN7JBX4UDQ</td>\n",
       "      <td>3RANCT1ZVQOMDAVZWRS3CKPV2N6BU1</td>\n",
       "      <td>467.0</td>\n",
       "      <td>none</td>\n",
       "    </tr>\n",
       "    <tr>\n",
       "      <th>3165</th>\n",
       "      <td>1055</td>\n",
       "      <td>You discover a grand hall filled with legendar...</td>\n",
       "      <td>Waking with a start, my blankets strewn wildly...</td>\n",
       "      <td>It is YOU. Your mother's greatest love.”...'Oh...</td>\n",
       "      <td>TD-VAE</td>\n",
       "      <td>3</td>\n",
       "      <td>4</td>\n",
       "      <td>2</td>\n",
       "      <td>2</td>\n",
       "      <td>3</td>\n",
       "      <td>3</td>\n",
       "      <td>A1IZ4NX41GKU4X</td>\n",
       "      <td>3ATTHHXXWLVOHM3076V7IESCSB5IX4</td>\n",
       "      <td>65.0</td>\n",
       "      <td>mother</td>\n",
       "    </tr>\n",
       "    <tr>\n",
       "      <th>3166</th>\n",
       "      <td>1055</td>\n",
       "      <td>You discover a grand hall filled with legendar...</td>\n",
       "      <td>Waking with a start, my blankets strewn wildly...</td>\n",
       "      <td>It is YOU. Your mother's greatest love.”...'Oh...</td>\n",
       "      <td>TD-VAE</td>\n",
       "      <td>2</td>\n",
       "      <td>5</td>\n",
       "      <td>5</td>\n",
       "      <td>5</td>\n",
       "      <td>5</td>\n",
       "      <td>5</td>\n",
       "      <td>A264NN7JBX4UDQ</td>\n",
       "      <td>3F6KKYWMNM82XH9ADM7NTFL1XCJNDM</td>\n",
       "      <td>214.0</td>\n",
       "      <td>none</td>\n",
       "    </tr>\n",
       "    <tr>\n",
       "      <th>3167</th>\n",
       "      <td>1055</td>\n",
       "      <td>You discover a grand hall filled with legendar...</td>\n",
       "      <td>Waking with a start, my blankets strewn wildly...</td>\n",
       "      <td>It is YOU. Your mother's greatest love.”...'Oh...</td>\n",
       "      <td>TD-VAE</td>\n",
       "      <td>2</td>\n",
       "      <td>1</td>\n",
       "      <td>1</td>\n",
       "      <td>1</td>\n",
       "      <td>1</td>\n",
       "      <td>1</td>\n",
       "      <td>A2VE5IV9OD2SK1</td>\n",
       "      <td>3LUY3GC63A7MJTKD2OHTXCG0BTT7PB</td>\n",
       "      <td>306.0</td>\n",
       "      <td>None</td>\n",
       "    </tr>\n",
       "  </tbody>\n",
       "</table>\n",
       "</div>"
      ],
      "text/plain": [
       "      Story ID                                             Prompt  \\\n",
       "3163      1054  When a new president is elected, they are give...   \n",
       "3164      1054  When a new president is elected, they are give...   \n",
       "3165      1055  You discover a grand hall filled with legendar...   \n",
       "3166      1055  You discover a grand hall filled with legendar...   \n",
       "3167      1055  You discover a grand hall filled with legendar...   \n",
       "\n",
       "                                                  Human  \\\n",
       "3163  “Mr President I want you to know I am telling ...   \n",
       "3164  “Mr President I want you to know I am telling ...   \n",
       "3165  Waking with a start, my blankets strewn wildly...   \n",
       "3166  Waking with a start, my blankets strewn wildly...   \n",
       "3167  Waking with a start, my blankets strewn wildly...   \n",
       "\n",
       "                                                  Story   Model  Relevance  \\\n",
       "3163  'said a puppet'President Bush stopped the old ...  TD-VAE          2   \n",
       "3164  'said a puppet'President Bush stopped the old ...  TD-VAE          3   \n",
       "3165  It is YOU. Your mother's greatest love.”...'Oh...  TD-VAE          3   \n",
       "3166  It is YOU. Your mother's greatest love.”...'Oh...  TD-VAE          2   \n",
       "3167  It is YOU. Your mother's greatest love.”...'Oh...  TD-VAE          2   \n",
       "\n",
       "      Coherence  Empathy  Surprise  Engagement  Complexity       Worker ID  \\\n",
       "3163          1        1         3           2           2  A2WNW8A4MOR7T7   \n",
       "3164          2        3         2           2           3  A264NN7JBX4UDQ   \n",
       "3165          4        2         2           3           3  A1IZ4NX41GKU4X   \n",
       "3166          5        5         5           5           5  A264NN7JBX4UDQ   \n",
       "3167          1        1         1           1           1  A2VE5IV9OD2SK1   \n",
       "\n",
       "                       Assignment ID  Work time in seconds    Name  \n",
       "3163  3QHK8ZVMIXPJUK85ND02LXTCPDOBLG                 140.0    Bush  \n",
       "3164  3RANCT1ZVQOMDAVZWRS3CKPV2N6BU1                 467.0    none  \n",
       "3165  3ATTHHXXWLVOHM3076V7IESCSB5IX4                  65.0  mother  \n",
       "3166  3F6KKYWMNM82XH9ADM7NTFL1XCJNDM                 214.0    none  \n",
       "3167  3LUY3GC63A7MJTKD2OHTXCG0BTT7PB                 306.0    None  "
      ]
     },
     "execution_count": 75,
     "metadata": {},
     "output_type": "execute_result"
    }
   ],
   "source": [
    "data_annotations.tail()"
   ]
  },
  {
   "cell_type": "markdown",
   "id": "c51a828a",
   "metadata": {},
   "source": [
    "The different model used are as follow:"
   ]
  },
  {
   "cell_type": "code",
   "execution_count": 17,
   "id": "c19c98a7",
   "metadata": {},
   "outputs": [
    {
     "data": {
      "text/plain": [
       "array(['Human', 'BertGeneration', 'CTRL', 'GPT', 'GPT-2 (tag)', 'GPT-2',\n",
       "       'RoBERTa', 'XLNet', 'Fusion', 'HINT', 'TD-VAE'], dtype=object)"
      ]
     },
     "execution_count": 17,
     "metadata": {},
     "output_type": "execute_result"
    }
   ],
   "source": [
    "data_annotations['Model'].unique()"
   ]
  },
  {
   "cell_type": "code",
   "execution_count": 18,
   "id": "184eea90",
   "metadata": {},
   "outputs": [],
   "source": [
    "data_scores = pd.read_csv(\"hanna_metric_scores.csv\")"
   ]
  },
  {
   "cell_type": "code",
   "execution_count": 78,
   "id": "1272c657",
   "metadata": {},
   "outputs": [
    {
     "data": {
      "text/html": [
       "<div>\n",
       "<style scoped>\n",
       "    .dataframe tbody tr th:only-of-type {\n",
       "        vertical-align: middle;\n",
       "    }\n",
       "\n",
       "    .dataframe tbody tr th {\n",
       "        vertical-align: top;\n",
       "    }\n",
       "\n",
       "    .dataframe thead th {\n",
       "        text-align: right;\n",
       "    }\n",
       "</style>\n",
       "<table border=\"1\" class=\"dataframe\">\n",
       "  <thead>\n",
       "    <tr style=\"text-align: right;\">\n",
       "      <th></th>\n",
       "      <th>Model</th>\n",
       "      <th>Relevance</th>\n",
       "      <th>Coherence</th>\n",
       "      <th>Empathy</th>\n",
       "      <th>Surprise</th>\n",
       "      <th>Engagement</th>\n",
       "      <th>Complexity</th>\n",
       "      <th>BLEU Ξ§</th>\n",
       "      <th>ROUGE-1 Recall Ξ§</th>\n",
       "      <th>ROUGE-1 Precision Ξ§</th>\n",
       "      <th>...</th>\n",
       "      <th>Repetition-2 ¤§</th>\n",
       "      <th>Repetition-3 ¤§</th>\n",
       "      <th>SUPERT-PS ¤ε</th>\n",
       "      <th>SUPERT-SS ¤ε</th>\n",
       "      <th>BLANC-Tune-PS ¤Δ</th>\n",
       "      <th>BLANC-Help-PS ¤Δ</th>\n",
       "      <th>BLANC-Tune-SS ¤Δ</th>\n",
       "      <th>BLANC-Help-SS ¤Δ</th>\n",
       "      <th>BARTScore-PS ¤Δ</th>\n",
       "      <th>BARTScore-SP ¤Δ</th>\n",
       "    </tr>\n",
       "  </thead>\n",
       "  <tbody>\n",
       "    <tr>\n",
       "      <th>6</th>\n",
       "      <td>RoBERTa</td>\n",
       "      <td>[2.0, 2.3333333333333335, 2.0, 3.6666666666666...</td>\n",
       "      <td>[3.0, 2.6666666666666665, 3.6666666666666665, ...</td>\n",
       "      <td>[2.3333333333333335, 2.0, 2.6666666666666665, ...</td>\n",
       "      <td>[1.6666666666666667, 1.3333333333333333, 3.666...</td>\n",
       "      <td>[2.0, 2.0, 3.0, 4.333333333333333, 2.0, 1.6666...</td>\n",
       "      <td>[2.0, 2.3333333333333335, 3.0, 3.6666666666666...</td>\n",
       "      <td>[1.1807274169, 1.9723572012, 0.14924418, 0.218...</td>\n",
       "      <td>[0.3318, 0.31111, 0.16285, 0.15347, 0.30968, 0...</td>\n",
       "      <td>[0.32432, 0.4058, 0.57399, 0.61165, 0.2212, 0....</td>\n",
       "      <td>...</td>\n",
       "      <td>[0.06147540983606557, 0.0825242718446602, 0.07...</td>\n",
       "      <td>[0.01953125, 0.02666666666666667, 0.0161290322...</td>\n",
       "      <td>[0.3652871039595953, 0.2685756867276348, 0.362...</td>\n",
       "      <td>[0.3652871039595953, 0.2685756867276348, 0.362...</td>\n",
       "      <td>[0.027522935779816515, 0.00980392156862745, 0....</td>\n",
       "      <td>[0.009174311926605505, 0.0196078431372549, 0.0...</td>\n",
       "      <td>[-0.11764705882352941, -0.14285714285714285, 0...</td>\n",
       "      <td>[-0.11764705882352941, 0.0, 0.09375, 0.125, 0....</td>\n",
       "      <td>[-4.090158939361572, -4.411034107208252, -4.04...</td>\n",
       "      <td>[-4.437648773193359, -5.67439603805542, -4.802...</td>\n",
       "    </tr>\n",
       "    <tr>\n",
       "      <th>7</th>\n",
       "      <td>XLNet</td>\n",
       "      <td>[2.0, 3.0, 1.3333333333333333, 2.3333333333333...</td>\n",
       "      <td>[3.0, 2.6666666666666665, 2.0, 2.3333333333333...</td>\n",
       "      <td>[2.0, 1.6666666666666667, 1.6666666666666667, ...</td>\n",
       "      <td>[2.0, 1.3333333333333333, 1.6666666666666667, ...</td>\n",
       "      <td>[2.6666666666666665, 2.6666666666666665, 1.666...</td>\n",
       "      <td>[3.0, 2.3333333333333335, 1.3333333333333333, ...</td>\n",
       "      <td>[1.28633203, 1.7747416632, 0.2716583772, 0.436...</td>\n",
       "      <td>[0.3871, 0.22593, 0.20483, 0.18758, 0.43226, 0...</td>\n",
       "      <td>[0.22951, 0.25523, 0.41818, 0.49838, 0.18873, ...</td>\n",
       "      <td>...</td>\n",
       "      <td>[0.13988095238095238, 0.09795918367346938, 0.1...</td>\n",
       "      <td>[0.03007518796992481, 0.029850746268656716, 0....</td>\n",
       "      <td>[0.318136842701576, 0.2224131163499796, 0.2902...</td>\n",
       "      <td>[0.30082513616594114, 0.21941221177209855, 0.3...</td>\n",
       "      <td>[0.005714285714285714, -0.00819672131147541, -...</td>\n",
       "      <td>[-0.005714285714285714, 0.01639344262295082, -...</td>\n",
       "      <td>[0.0, -0.14285714285714285, 0.03125, 0.0, -0.2...</td>\n",
       "      <td>[0.0, -0.2857142857142857, 0.03125, 0.0, -0.2,...</td>\n",
       "      <td>[-4.306793689727783, -5.588626384735107, -4.93...</td>\n",
       "      <td>[-4.770389080047607, -6.0159912109375, -4.7908...</td>\n",
       "    </tr>\n",
       "    <tr>\n",
       "      <th>8</th>\n",
       "      <td>Fusion</td>\n",
       "      <td>[2.0, 3.0, 1.3333333333333333, 2.3333333333333...</td>\n",
       "      <td>[3.6666666666666665, 2.6666666666666665, 3.0, ...</td>\n",
       "      <td>[1.6666666666666667, 2.3333333333333335, 1.666...</td>\n",
       "      <td>[2.3333333333333335, 1.3333333333333333, 2.333...</td>\n",
       "      <td>[2.6666666666666665, 1.6666666666666667, 2.333...</td>\n",
       "      <td>[2.6666666666666665, 1.6666666666666667, 2.666...</td>\n",
       "      <td>[0.9849444836, 1.2775331891, 0.02104559, 0.026...</td>\n",
       "      <td>[0.21198, 0.22963, 0.10051, 0.10962, 0.26452, ...</td>\n",
       "      <td>[0.34848, 0.47692, 0.6124, 0.69767, 0.29496, 0...</td>\n",
       "      <td>...</td>\n",
       "      <td>[0.08396946564885496, 0.19327731092436976, 0.1...</td>\n",
       "      <td>[0.014184397163120567, 0.09923664122137404, 0....</td>\n",
       "      <td>[0.24084545342617641, 0.1717393621831428, 0.29...</td>\n",
       "      <td>[0.24084545342617641, 0.1717393621831428, 0.29...</td>\n",
       "      <td>[0.0, -0.018518518518518517, 0.018518518518518...</td>\n",
       "      <td>[0.03508771929824561, -0.018518518518518517, -...</td>\n",
       "      <td>[-0.11764705882352941, -0.14285714285714285, 0...</td>\n",
       "      <td>[-0.11764705882352941, -0.14285714285714285, 0...</td>\n",
       "      <td>[-4.327263832092285, -3.9988322257995605, -3.7...</td>\n",
       "      <td>[-5.250404357910156, -6.4783525466918945, -5.1...</td>\n",
       "    </tr>\n",
       "    <tr>\n",
       "      <th>9</th>\n",
       "      <td>HINT</td>\n",
       "      <td>[3.0, 3.0, 1.6666666666666667, 2.0, 2.33333333...</td>\n",
       "      <td>[2.6666666666666665, 3.3333333333333335, 1.333...</td>\n",
       "      <td>[2.3333333333333335, 2.6666666666666665, 2.0, ...</td>\n",
       "      <td>[2.0, 2.6666666666666665, 1.0, 1.3333333333333...</td>\n",
       "      <td>[2.6666666666666665, 3.0, 1.0, 2.0, 1.33333333...</td>\n",
       "      <td>[1.6666666666666667, 2.6666666666666665, 1.0, ...</td>\n",
       "      <td>[0.6685033818, 0.1211432139, 6.77581e-05, 0.00...</td>\n",
       "      <td>[0.21659, 0.11481, 0.0458, 0.07308, 0.2129, 0....</td>\n",
       "      <td>[0.35606, 0.32632, 0.72, 0.61856, 0.30556, 0.6...</td>\n",
       "      <td>...</td>\n",
       "      <td>[0.3048780487804878, 0.5272727272727272, 0.35,...</td>\n",
       "      <td>[0.2808988764044944, 0.4057971014492754, 0.274...</td>\n",
       "      <td>[0.25919077170525007, 0.21959409934092944, 0.1...</td>\n",
       "      <td>[0.25919077170525007, 0.21959409934092944, 0.1...</td>\n",
       "      <td>[-0.07462686567164178, 0.0, 0.0833333333333333...</td>\n",
       "      <td>[-0.029850746268656716, -0.041666666666666664,...</td>\n",
       "      <td>[0.058823529411764705, 0.0, -0.03125, -0.125, ...</td>\n",
       "      <td>[0.058823529411764705, -0.14285714285714285, -...</td>\n",
       "      <td>[-3.30094313621521, -2.535837173461914, -2.336...</td>\n",
       "      <td>[-4.9934892654418945, -6.435319423675537, -5.2...</td>\n",
       "    </tr>\n",
       "    <tr>\n",
       "      <th>10</th>\n",
       "      <td>TD-VAE</td>\n",
       "      <td>[3.0, 3.3333333333333335, 2.3333333333333335, ...</td>\n",
       "      <td>[2.3333333333333335, 3.0, 3.6666666666666665, ...</td>\n",
       "      <td>[2.6666666666666665, 3.0, 2.0, 2.6666666666666...</td>\n",
       "      <td>[2.0, 2.0, 2.0, 2.3333333333333335, 2.33333333...</td>\n",
       "      <td>[2.3333333333333335, 3.0, 3.0, 3.6666666666666...</td>\n",
       "      <td>[2.3333333333333335, 2.6666666666666665, 2.666...</td>\n",
       "      <td>[0.7205307906, 1.9619137872, 0.3090108175, 2.0...</td>\n",
       "      <td>[0.30415, 0.34074, 0.14504, 0.37272, 0.31613, ...</td>\n",
       "      <td>[0.2973, 0.32168, 0.48305, 0.54839, 0.16498, 0...</td>\n",
       "      <td>...</td>\n",
       "      <td>[0.09126984126984126, 0.09294871794871795, 0.0...</td>\n",
       "      <td>[0.03914590747330961, 0.029069767441860465, 0....</td>\n",
       "      <td>[0.3216680073711483, 0.24002180548121202, 0.22...</td>\n",
       "      <td>[0.30748392104260297, 0.21937793147131485, 0.2...</td>\n",
       "      <td>[0.007142857142857143, -0.014814814814814815, ...</td>\n",
       "      <td>[-0.02142857142857143, 0.007407407407407408, 0...</td>\n",
       "      <td>[-0.11764705882352941, -0.2857142857142857, -0...</td>\n",
       "      <td>[-0.11764705882352941, -0.42857142857142855, -...</td>\n",
       "      <td>[-5.187905788421631, -5.209708213806152, -5.04...</td>\n",
       "      <td>[-4.734442710876465, -5.54411506652832, -5.026...</td>\n",
       "    </tr>\n",
       "  </tbody>\n",
       "</table>\n",
       "<p>5 rows × 79 columns</p>\n",
       "</div>"
      ],
      "text/plain": [
       "      Model                                          Relevance  \\\n",
       "6   RoBERTa  [2.0, 2.3333333333333335, 2.0, 3.6666666666666...   \n",
       "7     XLNet  [2.0, 3.0, 1.3333333333333333, 2.3333333333333...   \n",
       "8    Fusion  [2.0, 3.0, 1.3333333333333333, 2.3333333333333...   \n",
       "9      HINT  [3.0, 3.0, 1.6666666666666667, 2.0, 2.33333333...   \n",
       "10   TD-VAE  [3.0, 3.3333333333333335, 2.3333333333333335, ...   \n",
       "\n",
       "                                            Coherence  \\\n",
       "6   [3.0, 2.6666666666666665, 3.6666666666666665, ...   \n",
       "7   [3.0, 2.6666666666666665, 2.0, 2.3333333333333...   \n",
       "8   [3.6666666666666665, 2.6666666666666665, 3.0, ...   \n",
       "9   [2.6666666666666665, 3.3333333333333335, 1.333...   \n",
       "10  [2.3333333333333335, 3.0, 3.6666666666666665, ...   \n",
       "\n",
       "                                              Empathy  \\\n",
       "6   [2.3333333333333335, 2.0, 2.6666666666666665, ...   \n",
       "7   [2.0, 1.6666666666666667, 1.6666666666666667, ...   \n",
       "8   [1.6666666666666667, 2.3333333333333335, 1.666...   \n",
       "9   [2.3333333333333335, 2.6666666666666665, 2.0, ...   \n",
       "10  [2.6666666666666665, 3.0, 2.0, 2.6666666666666...   \n",
       "\n",
       "                                             Surprise  \\\n",
       "6   [1.6666666666666667, 1.3333333333333333, 3.666...   \n",
       "7   [2.0, 1.3333333333333333, 1.6666666666666667, ...   \n",
       "8   [2.3333333333333335, 1.3333333333333333, 2.333...   \n",
       "9   [2.0, 2.6666666666666665, 1.0, 1.3333333333333...   \n",
       "10  [2.0, 2.0, 2.0, 2.3333333333333335, 2.33333333...   \n",
       "\n",
       "                                           Engagement  \\\n",
       "6   [2.0, 2.0, 3.0, 4.333333333333333, 2.0, 1.6666...   \n",
       "7   [2.6666666666666665, 2.6666666666666665, 1.666...   \n",
       "8   [2.6666666666666665, 1.6666666666666667, 2.333...   \n",
       "9   [2.6666666666666665, 3.0, 1.0, 2.0, 1.33333333...   \n",
       "10  [2.3333333333333335, 3.0, 3.0, 3.6666666666666...   \n",
       "\n",
       "                                           Complexity  \\\n",
       "6   [2.0, 2.3333333333333335, 3.0, 3.6666666666666...   \n",
       "7   [3.0, 2.3333333333333335, 1.3333333333333333, ...   \n",
       "8   [2.6666666666666665, 1.6666666666666667, 2.666...   \n",
       "9   [1.6666666666666667, 2.6666666666666665, 1.0, ...   \n",
       "10  [2.3333333333333335, 2.6666666666666665, 2.666...   \n",
       "\n",
       "                                              BLEU Ξ§  \\\n",
       "6   [1.1807274169, 1.9723572012, 0.14924418, 0.218...   \n",
       "7   [1.28633203, 1.7747416632, 0.2716583772, 0.436...   \n",
       "8   [0.9849444836, 1.2775331891, 0.02104559, 0.026...   \n",
       "9   [0.6685033818, 0.1211432139, 6.77581e-05, 0.00...   \n",
       "10  [0.7205307906, 1.9619137872, 0.3090108175, 2.0...   \n",
       "\n",
       "                                    ROUGE-1 Recall Ξ§  \\\n",
       "6   [0.3318, 0.31111, 0.16285, 0.15347, 0.30968, 0...   \n",
       "7   [0.3871, 0.22593, 0.20483, 0.18758, 0.43226, 0...   \n",
       "8   [0.21198, 0.22963, 0.10051, 0.10962, 0.26452, ...   \n",
       "9   [0.21659, 0.11481, 0.0458, 0.07308, 0.2129, 0....   \n",
       "10  [0.30415, 0.34074, 0.14504, 0.37272, 0.31613, ...   \n",
       "\n",
       "                                 ROUGE-1 Precision Ξ§  ...  \\\n",
       "6   [0.32432, 0.4058, 0.57399, 0.61165, 0.2212, 0....  ...   \n",
       "7   [0.22951, 0.25523, 0.41818, 0.49838, 0.18873, ...  ...   \n",
       "8   [0.34848, 0.47692, 0.6124, 0.69767, 0.29496, 0...  ...   \n",
       "9   [0.35606, 0.32632, 0.72, 0.61856, 0.30556, 0.6...  ...   \n",
       "10  [0.2973, 0.32168, 0.48305, 0.54839, 0.16498, 0...  ...   \n",
       "\n",
       "                                      Repetition-2 ¤§  \\\n",
       "6   [0.06147540983606557, 0.0825242718446602, 0.07...   \n",
       "7   [0.13988095238095238, 0.09795918367346938, 0.1...   \n",
       "8   [0.08396946564885496, 0.19327731092436976, 0.1...   \n",
       "9   [0.3048780487804878, 0.5272727272727272, 0.35,...   \n",
       "10  [0.09126984126984126, 0.09294871794871795, 0.0...   \n",
       "\n",
       "                                      Repetition-3 ¤§  \\\n",
       "6   [0.01953125, 0.02666666666666667, 0.0161290322...   \n",
       "7   [0.03007518796992481, 0.029850746268656716, 0....   \n",
       "8   [0.014184397163120567, 0.09923664122137404, 0....   \n",
       "9   [0.2808988764044944, 0.4057971014492754, 0.274...   \n",
       "10  [0.03914590747330961, 0.029069767441860465, 0....   \n",
       "\n",
       "                                         SUPERT-PS ¤ε  \\\n",
       "6   [0.3652871039595953, 0.2685756867276348, 0.362...   \n",
       "7   [0.318136842701576, 0.2224131163499796, 0.2902...   \n",
       "8   [0.24084545342617641, 0.1717393621831428, 0.29...   \n",
       "9   [0.25919077170525007, 0.21959409934092944, 0.1...   \n",
       "10  [0.3216680073711483, 0.24002180548121202, 0.22...   \n",
       "\n",
       "                                         SUPERT-SS ¤ε  \\\n",
       "6   [0.3652871039595953, 0.2685756867276348, 0.362...   \n",
       "7   [0.30082513616594114, 0.21941221177209855, 0.3...   \n",
       "8   [0.24084545342617641, 0.1717393621831428, 0.29...   \n",
       "9   [0.25919077170525007, 0.21959409934092944, 0.1...   \n",
       "10  [0.30748392104260297, 0.21937793147131485, 0.2...   \n",
       "\n",
       "                                     BLANC-Tune-PS ¤Δ  \\\n",
       "6   [0.027522935779816515, 0.00980392156862745, 0....   \n",
       "7   [0.005714285714285714, -0.00819672131147541, -...   \n",
       "8   [0.0, -0.018518518518518517, 0.018518518518518...   \n",
       "9   [-0.07462686567164178, 0.0, 0.0833333333333333...   \n",
       "10  [0.007142857142857143, -0.014814814814814815, ...   \n",
       "\n",
       "                                     BLANC-Help-PS ¤Δ  \\\n",
       "6   [0.009174311926605505, 0.0196078431372549, 0.0...   \n",
       "7   [-0.005714285714285714, 0.01639344262295082, -...   \n",
       "8   [0.03508771929824561, -0.018518518518518517, -...   \n",
       "9   [-0.029850746268656716, -0.041666666666666664,...   \n",
       "10  [-0.02142857142857143, 0.007407407407407408, 0...   \n",
       "\n",
       "                                     BLANC-Tune-SS ¤Δ  \\\n",
       "6   [-0.11764705882352941, -0.14285714285714285, 0...   \n",
       "7   [0.0, -0.14285714285714285, 0.03125, 0.0, -0.2...   \n",
       "8   [-0.11764705882352941, -0.14285714285714285, 0...   \n",
       "9   [0.058823529411764705, 0.0, -0.03125, -0.125, ...   \n",
       "10  [-0.11764705882352941, -0.2857142857142857, -0...   \n",
       "\n",
       "                                     BLANC-Help-SS ¤Δ  \\\n",
       "6   [-0.11764705882352941, 0.0, 0.09375, 0.125, 0....   \n",
       "7   [0.0, -0.2857142857142857, 0.03125, 0.0, -0.2,...   \n",
       "8   [-0.11764705882352941, -0.14285714285714285, 0...   \n",
       "9   [0.058823529411764705, -0.14285714285714285, -...   \n",
       "10  [-0.11764705882352941, -0.42857142857142855, -...   \n",
       "\n",
       "                                      BARTScore-PS ¤Δ  \\\n",
       "6   [-4.090158939361572, -4.411034107208252, -4.04...   \n",
       "7   [-4.306793689727783, -5.588626384735107, -4.93...   \n",
       "8   [-4.327263832092285, -3.9988322257995605, -3.7...   \n",
       "9   [-3.30094313621521, -2.535837173461914, -2.336...   \n",
       "10  [-5.187905788421631, -5.209708213806152, -5.04...   \n",
       "\n",
       "                                      BARTScore-SP ¤Δ  \n",
       "6   [-4.437648773193359, -5.67439603805542, -4.802...  \n",
       "7   [-4.770389080047607, -6.0159912109375, -4.7908...  \n",
       "8   [-5.250404357910156, -6.4783525466918945, -5.1...  \n",
       "9   [-4.9934892654418945, -6.435319423675537, -5.2...  \n",
       "10  [-4.734442710876465, -5.54411506652832, -5.026...  \n",
       "\n",
       "[5 rows x 79 columns]"
      ]
     },
     "execution_count": 78,
     "metadata": {},
     "output_type": "execute_result"
    }
   ],
   "source": [
    "data_scores.tail()"
   ]
  },
  {
   "cell_type": "code",
   "execution_count": 77,
   "id": "76439313",
   "metadata": {},
   "outputs": [
    {
     "data": {
      "text/plain": [
       "0     [3.6666666666666665, 5.0, 4.666666666666667, 3...\n",
       "1     [1.6666666666666667, 3.0, 1.3333333333333333, ...\n",
       "2     [2.3333333333333335, 3.6666666666666665, 2.666...\n",
       "3     [3.6666666666666665, 3.0, 2.6666666666666665, ...\n",
       "4     [3.0, 3.3333333333333335, 2.6666666666666665, ...\n",
       "5     [2.6666666666666665, 3.0, 4.0, 4.3333333333333...\n",
       "6     [2.0, 2.3333333333333335, 2.0, 3.6666666666666...\n",
       "7     [2.0, 3.0, 1.3333333333333333, 2.3333333333333...\n",
       "8     [2.0, 3.0, 1.3333333333333333, 2.3333333333333...\n",
       "9     [3.0, 3.0, 1.6666666666666667, 2.0, 2.33333333...\n",
       "10    [3.0, 3.3333333333333335, 2.3333333333333335, ...\n",
       "Name: Relevance, dtype: object"
      ]
     },
     "execution_count": 77,
     "metadata": {},
     "output_type": "execute_result"
    }
   ],
   "source": [
    "relevance_data_human =data_scores[['Relevance']].values[:1]\n",
    "relevance_data_bert = data_scores[['Relevance']].values[1:2]\n",
    "data_scores['Relevance']"
   ]
  },
  {
   "cell_type": "markdown",
   "id": "74ad6ed7",
   "metadata": {},
   "source": [
    "We indeed have the relevance metric for 96 stories."
   ]
  },
  {
   "cell_type": "code",
   "execution_count": 74,
   "id": "ec2b3b87",
   "metadata": {},
   "outputs": [
    {
     "data": {
      "text/plain": [
       "96"
      ]
     },
     "execution_count": 74,
     "metadata": {},
     "output_type": "execute_result"
    }
   ],
   "source": [
    "len(json.loads(relevance_data_human.tolist()[0][0]))"
   ]
  },
  {
   "cell_type": "markdown",
   "id": "8197501d",
   "metadata": {},
   "source": [
    "In order to benchmark the correlation of existing metrics with human scores we have the following steps: \n",
    "\n",
    "1.\tCollect a dataset: You will need to collect a dataset of texts or documents that you will use for your NLP task. This dataset should be diverse enough to capture different variations of the language and the task at hand.\n",
    "\n",
    "2.\tAnnotate the dataset: You will need to annotate the dataset with human scores. This involves having human annotators rate or evaluate the same task that your NLP model is performing. For example, if your NLP task is sentiment analysis, you can have human annotators rate the sentiment of each text or document on a scale of 1 to 5.\n",
    "\n",
    "3.\tTrain your NLP model: You will need to train your NLP model on the annotated dataset using the existing metrics that you want to benchmark. For example, you can use accuracy, precision, recall, and F1 score as your evaluation metrics.\n",
    "\n",
    "4.\tEvaluate your NLP model: Once your model is trained, you can evaluate its performance on the same dataset using the existing metrics. This will give you an idea of how well your model is performing according to the current evaluation standards.\n",
    "\n",
    "5.\tCalculate the correlation: You can then calculate the correlation between the human scores and the existing metrics. You can use statistical methods such as Pearson correlation coefficient or Spearman's rank correlation coefficient to calculate the correlation.\n",
    "\n",
    "6.\tAnalyze the results: Analyze the results to understand how well the existing metrics are correlated with human scores. If there is a high correlation, it indicates that the existing metrics are effective in evaluating the NLP model's performance. If there is a low correlation, it suggests that the existing metrics may not be sufficient and may need to be improved or replaced.\n",
    "\n",
    "\n",
    "\n"
   ]
  },
  {
   "cell_type": "markdown",
   "id": "22dc9872",
   "metadata": {},
   "source": [
    "Here we are trying to evaluate the steps 5 and 6."
   ]
  },
  {
   "cell_type": "markdown",
   "id": "71cd8db9",
   "metadata": {},
   "source": [
    "### Using the Pearson method\n",
    "\n",
    "Calculate the covariance between the human scores and the existing metric. This can be done using the formula:\n",
    "\n",
    "covariance = Σ[(human score - mean human score) * (metric - mean metric)] / (n - 1)\n",
    "\n",
    "Where Σ represents the sum of the values for each story, n is the number of stories, and mean human score and mean metric are the means of the human scores and existing metric, respectively.\n",
    "\n",
    "Calculate the Pearson correlation coefficient between the human scores and the existing metric. This can be done using the formula:\n",
    "\n",
    "r = covariance / (standard deviation of human scores * standard deviation of existing metric)"
   ]
  },
  {
   "cell_type": "code",
   "execution_count": 66,
   "id": "12e2c31e",
   "metadata": {},
   "outputs": [],
   "source": [
    "# calculate the Pearson correlation coefficient and p-value\n",
    "corr_coef, p_value = pearsonr(json.loads(relevance_data_human.tolist()[0][0]), json.loads(relevance_data_bert.tolist()[0][0]))\n"
   ]
  },
  {
   "cell_type": "code",
   "execution_count": 68,
   "id": "7ccd7662",
   "metadata": {},
   "outputs": [
    {
     "name": "stdout",
     "output_type": "stream",
     "text": [
      "Pearson correlation coefficient for the BertGeneration model and the relevance metric: -0.029086742829064545\n",
      "p-value: 0.7784672746915751\n"
     ]
    }
   ],
   "source": [
    "# print the results\n",
    "print(\"Pearson correlation coefficient for the BertGeneration model and the relevance metric:\", corr_coef)\n",
    "print(\"p-value:\", p_value)"
   ]
  },
  {
   "cell_type": "markdown",
   "id": "c3f71025",
   "metadata": {},
   "source": [
    "## Story-level correlation\n",
    "\n",
    "We want to average out on all of our stories the criterion beteween metric 1 and metric 2.  "
   ]
  },
  {
   "cell_type": "markdown",
   "id": "e195bfc9",
   "metadata": {},
   "source": [
    "## Trying to reproduce figure 1"
   ]
  },
  {
   "cell_type": "code",
   "execution_count": 97,
   "id": "9dfeb464",
   "metadata": {},
   "outputs": [
    {
     "data": {
      "text/plain": [
       "0.5781708577796704"
      ]
     },
     "execution_count": 97,
     "metadata": {},
     "output_type": "execute_result"
    }
   ],
   "source": [
    "#let's try first with the pearson criterion and between the relevance and the coherence factors \n",
    "\n",
    "\n",
    "#we want a coefficient with the scores of all systems for the the first prompt\n",
    "\n",
    "c_relevance= np.array( [json.loads(l) for l in data_scores['Relevance'].tolist()]).T\n",
    "c_coherence= np.array( [json.loads(l) for l in data_scores['Coherence'].tolist()]).T\n",
    "\n",
    "k=np.zeros(len(c_relevance[0]))\n",
    "for i in range(len(c_relevance[0])):\n",
    "    k[i]=pearsonr(c_relevance[i],c_coherence[i] )[0]\n",
    " \n",
    "k.mean()\n",
    "\n",
    "\n",
    "\n"
   ]
  },
  {
   "cell_type": "markdown",
   "id": "f75b3f0b",
   "metadata": {},
   "source": [
    "#### Correlation matrix story level for Pearson criterion"
   ]
  },
  {
   "cell_type": "code",
   "execution_count": 111,
   "id": "fb6e6f9c",
   "metadata": {},
   "outputs": [
    {
     "data": {
      "image/png": "[encoded data removed]",
      "text/plain": [
       "<Figure size 432x288 with 2 Axes>"
      ]
     },
     "metadata": {
      "needs_background": "light"
     },
     "output_type": "display_data"
    }
   ],
   "source": [
    "# now let's try and plot a story level correlation matrix \n",
    "\n",
    "# let's define all of our human metrics \n",
    "\n",
    "human_scores=['Relevance', 'Coherence', 'Empathy', 'Surprise', 'Engagement', 'Complexity']\n",
    "N=len(human_scores)\n",
    "\n",
    "corr_story_matrix= np.zeros((N, N))\n",
    "for i in range(N):\n",
    "    for j in range(N):\n",
    "        c_metric1= np.array( [json.loads(l) for l in data_scores[human_scores[i]].tolist()]).T\n",
    "        c_metric2= np.array( [json.loads(l) for l in data_scores[human_scores[j]].tolist()]).T\n",
    "\n",
    "        k=np.zeros(96)\n",
    "        \n",
    "        for l in range(96):\n",
    "            k[l]=pearsonr(c_metric1[l],c_metric2[l] )[0]\n",
    "           \n",
    "        corr_story_matrix[i,j]= k.mean()\n",
    "    \n",
    "\n",
    "heatmap=sns.heatmap(corr_story_matrix, annot=True, cmap='coolwarm', xticklabels=human_scores, yticklabels=human_scores)\n",
    "\n",
    "\n",
    "heatmap.set_xticklabels(heatmap.get_xticklabels(), rotation=45, ha='right')\n",
    "\n",
    "# Display the plot\n",
    "plt.show()\n",
    "        "
   ]
  },
  {
   "cell_type": "markdown",
   "id": "fe53f228",
   "metadata": {},
   "source": [
    "#### Correlation matrix story level for Kendall criterion"
   ]
  },
  {
   "cell_type": "code",
   "execution_count": 110,
   "id": "bae5d3ac",
   "metadata": {},
   "outputs": [
    {
     "data": {
      "image/png": "[encoded data removed]",
      "text/plain": [
       "<Figure size 432x288 with 2 Axes>"
      ]
     },
     "metadata": {
      "needs_background": "light"
     },
     "output_type": "display_data"
    }
   ],
   "source": [
    "human_scores=['Relevance', 'Coherence', 'Empathy', 'Surprise', 'Engagement', 'Complexity']\n",
    "N=len(human_scores)\n",
    "\n",
    "corr_story_matrix= np.zeros((N, N))\n",
    "for i in range(N):\n",
    "    for j in range(N):\n",
    "        c_metric1= np.array( [json.loads(l) for l in data_scores[human_scores[i]].tolist()]).T\n",
    "        c_metric2= np.array( [json.loads(l) for l in data_scores[human_scores[j]].tolist()]).T\n",
    "\n",
    "        k=np.zeros(96)\n",
    "        \n",
    "        for l in range(96):\n",
    "            k[l]=kendalltau(c_metric1[l],c_metric2[l] )[0]\n",
    "           \n",
    "        corr_story_matrix[i,j]= k.mean()\n",
    "    \n",
    "\n",
    "heatmap=sns.heatmap(corr_story_matrix, annot=True, cmap='coolwarm', xticklabels=human_scores, yticklabels=human_scores)\n",
    "\n",
    "\n",
    "heatmap.set_xticklabels(heatmap.get_xticklabels(), rotation=45, ha='right')\n",
    "\n",
    "# Display the plot\n",
    "plt.show()"
   ]
  },
  {
   "cell_type": "markdown",
   "id": "0d601fa7",
   "metadata": {},
   "source": [
    "### System level correlations"
   ]
  },
  {
   "cell_type": "code",
   "execution_count": 113,
   "id": "966ea077",
   "metadata": {},
   "outputs": [
    {
     "data": {
      "text/plain": [
       "array([[2.66666667, 4.        , 4.33333333, ..., 3.        , 3.66666667,\n",
       "        4.33333333],\n",
       "       [2.66666667, 2.66666667, 1.33333333, ..., 2.66666667, 3.        ,\n",
       "        2.66666667],\n",
       "       [2.66666667, 3.        , 3.        , ..., 1.33333333, 2.33333333,\n",
       "        2.33333333],\n",
       "       ...,\n",
       "       [2.66666667, 1.66666667, 2.66666667, ..., 2.        , 2.66666667,\n",
       "        1.33333333],\n",
       "       [1.66666667, 2.66666667, 1.        , ..., 1.        , 1.        ,\n",
       "        1.        ],\n",
       "       [2.33333333, 2.66666667, 2.66666667, ..., 2.33333333, 2.33333333,\n",
       "        3.        ]])"
      ]
     },
     "execution_count": 113,
     "metadata": {},
     "output_type": "execute_result"
    }
   ],
   "source": [
    "\n",
    "\n",
    "c_system = np.array( [json.loads(l) for l in data_scores[human_scores[i]].tolist()])\n"
   ]
  },
  {
   "cell_type": "code",
   "execution_count": null,
   "id": "1bb88acf",
   "metadata": {},
   "outputs": [],
   "source": []
  }
 ],
 "metadata": {
  "kernelspec": {
   "display_name": "Python 3 (ipykernel)",
   "language": "python",
   "name": "python3"
  },
  "language_info": {
   "codemirror_mode": {
    "name": "ipython",
    "version": 3
   },
   "file_extension": ".py",
   "mimetype": "text/x-python",
   "name": "python",
   "nbconvert_exporter": "python",
   "pygments_lexer": "ipython3",
   "version": "3.8.13"
  }
 },
 "nbformat": 4,
 "nbformat_minor": 5
}
